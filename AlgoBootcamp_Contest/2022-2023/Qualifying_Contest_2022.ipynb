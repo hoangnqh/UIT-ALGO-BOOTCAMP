{
  "nbformat": 4,
  "nbformat_minor": 0,
  "metadata": {
    "colab": {
      "provenance": [],
      "collapsed_sections": [],
      "toc_visible": true,
      "authorship_tag": "ABX9TyNhUUOxBScg0z9jsk2U4nh1",
      "include_colab_link": true
    },
    "kernelspec": {
      "name": "python3",
      "display_name": "Python 3"
    },
    "language_info": {
      "name": "python"
    }
  },
  "cells": [
    {
      "cell_type": "markdown",
      "metadata": {
        "id": "view-in-github",
        "colab_type": "text"
      },
      "source": [
        "<a href=\"https://colab.research.google.com/github/hoangnqh/UIT-ALGO-BOOTCAMP/blob/main/AlgoBootcamp_Contest/2022-2023/Qualifying_Contest_2022.ipynb\" target=\"_parent\"><img src=\"https://colab.research.google.com/assets/colab-badge.svg\" alt=\"Open In Colab\"/></a>"
      ]
    },
    {
      "cell_type": "markdown",
      "source": [
        "# Editorial"
      ],
      "metadata": {
        "id": "1uHdjq8fV98V"
      }
    },
    {
      "cell_type": "markdown",
      "source": [
        "## PHONG BÌ\n",
        "### ___Đề bài:___ https://khmt.uit.edu.vn/wecode/algobootcamp/assignment/30/168\n",
        "### __Solution:__\n",
        "\n",
        "__Gợi ý 1:__ Ta có kích thước của lá đơn là $m \\times n$ và kích thước của phong bì là $w\\times h$ => Để ta có thể đặt đơn trong phong bì thì có 2 trường hợp (vì ta có thể xoay lá đơn 90 độ):\n",
        "\n",
        "- $m \\leq w$ và $n \\leq h$\n",
        "- $m \\leq h$ và $n \\leq w$\n",
        "\n",
        "Yêu cầu của bài toán là tính số lần gấp ít nhất, thì ta lấy min kết quả của 2 trường hợp trên là xong.\n",
        "\n",
        "__Gợi ý 2:__ Để tính kết quả của từng trường hợp thì ta nhận thấy mỗi lần gấp lá đơn thì chiều dài một cạnh của lá đơn sẽ giảm đi một nữa và kích thước giữa chiều dài và chiều rộng của lá đơn là độc lập với nhau (gấp chiều này không ảnh hưởng chiều kia). Nên với mỗi trường hợp, mỗi chiều thì ta so sánh kích thước của lá đơn với phong bì, nếu chiều đó của lá đơn lớn hơn phong bì thì ta gấp đôi lại và tăng số lần gấp lên 1, ta thực hiện cho đến khi kích thước lá đơn nhỏ hơn phong bì.\n",
        "\n",
        "ĐPT (Độ phức tạp): $O(Log2(m \\times n))$\n"
      ],
      "metadata": {
        "id": "XTiNWKOET5dn"
      }
    },
    {
      "cell_type": "markdown",
      "source": [
        "## MUA CÔ CA\n",
        "### Đề bài: https://khmt.uit.edu.vn/wecode/algobootcamp/assignment/30/172\n",
        "### __Solution:__\n",
        "Nếu ban đầu không có ô ở hai đầu khác màu nhau => Lose\n",
        "\n",
        "Ngược lại nếu có ô ở hai đầu khác màu nhau thì cắt ở vị trí đầu tiên mà giao nhau giữa hai màu khác nhau => Đoạn nữa bên trái không có ô ở hai đầu khác màu nhau và bên phải cũng vậy => Win\n",
        "\n",
        "ĐPT: $O(1)$"
      ],
      "metadata": {
        "id": "6zBCL8uDafQ0"
      }
    },
    {
      "cell_type": "markdown",
      "source": [
        "## TRÁM ĐEN\n",
        "### ___Đề bài:___ https://khmt.uit.edu.vn/wecode/algobootcamp/assignment/30/170\n",
        "### __Solution:__\n",
        "__Gợi ý 1:__ Với m, n thì ta có số vỏ trám đặt được là $m \\times n + (m + 1) \\times (n + 1)$, với $m \\times n$ là số vỏ trám đặt ở giao điểm, và $(m + 1) \\times (n + 1)$ là vỏ trám đặt ở trong ô. Và ta có phương trình 3 ẩn là $m \\times n + (m + 1) \\times (n + 1)$ = $k \\times 2$ ___(*)___\n",
        "\n",
        "__Gợi ý 2:__ Ta có $m \\leq n \\leq 10^{12}$ nên với $m = \\sqrt{k \\times 2}$ thì $n \\ge \\sqrt{k \\times 2}$ thì tổng vỏ trám đặt được sẽ lớn hơn $k \\times 2$ và không tồn tại đáp án. Ở phương trình ___(*)___ ta đã biết trước giá trị k và nhiệm vụ là tìm m và n, ta thấy  $m \\gt \\sqrt{k \\times 2}$ thì không có đáp án nên ta chỉ cần duyệt m từ 1 tới $\\sqrt{k \\times 2}$ thay vì từ 1 tới $10^{12}$ (vì giới hạn $1 \\leq m \\leq n \\leq 10^{12}$)sau đó giải phương trình tìm n như sau:\n",
        "```\n",
        "(*) <=> m * n + (m + 1)n + (m + 1) = k * 2\n",
        "    <=> n(2m + 1) = 2k - (m + 1)\n",
        "    <=> n = (2k - m - 1) / (2m + 1)\n",
        "```\n",
        "Lúc này với mỗi m thì ta kiểm tra xem $(2k - m - 1)$ có chia hết cho $(2m + 1)$ hay không và giá trị $n \\ge m$ sau đó tối ưu $(n - m)$ là min thì sẽ ra đáp án\n",
        "\n",
        "Độ phức tạp $O(\\sqrt{k})$"
      ],
      "metadata": {
        "id": "MOUUdQVoagbM"
      }
    },
    {
      "cell_type": "markdown",
      "source": [
        "## PHẦN THƯỞNG\n",
        "### ___Đề bài:___ https://khmt.uit.edu.vn/wecode/algobootcamp/assignment/30/25\n",
        "### ___Solution:___\n",
        "__Hướng tiếp cận 1:__ Sau khi Hermione nhận thưởng bằng cách lấy một đoạn liên tiếp có k phần tử, thì phần thưởng của Harry sẽ là đoạn con liêp tiếp có k phần tử có tổng lớn nhất. Để tối thiểu hóa phần thưởng của Harry thì ta sẽ bốc đoạn con nào đó có k phần tử liên tiếp sao cho tổng lớn nhất của đoạn con có k phần tử liên tiếp còn lại là nhỏ nhất. Ta có thể duyệt từ đầu tới cuối lấy từng đoạn có độ dài k ra, sau đó tính giá trị lớn nhất có thể ở các phần còn lại, kết quả của chúng ta sẽ là giá trị nhỏ nhất trong các trường hợp đó. Vì ta tính tất cả trường hợp lấy các đoạn k làm phần thưởng cho Hermione nên tốn chi phí là $O(N)$, với mỗi trường hợp như thế ta mất thêm $O(N)$ để tìm kết quả cho phần thưởng của Harry nên ta có ĐPT: $O(N^2)$ => Tốn rất nhiều thời gian, không khả thi\n",
        "\n",
        "__Hướng tiếp cận 2:__ Để khắc phục mất nhiều thời gian để tính toán trong hướng tiếp cận 1 thì ta có thể tính trước một số bước để tiết kiệm thời gian.\n",
        "\n",
        "Trong trường hợp này ta dùng tổng tiền tố. Ta tính trước tổng từ 1 tới i là $s[i]$ bằng cách $s[i] = s[i - 1] + a[i]$, lúc này ta có thể tính tổng bất cứ đoạn từ L tới R nào chỉ trong $O(1)$ bằng cách lấy $s[R] - s[L - 1]$. Tương tự như hướng tiếp cận 1, ta cũng duyệt từ đầu tới cuối để lấy hết mọi trường hợp lấy từng đoạn có độ dài k ra tốn $O(N)$, nhưng ở bước tính toán kết quả ta cần tối ưu thêm. Ta cũng dùng cách tương tự tổng tiền tố để tối ưu bước này. Gọi $l[i]$ là giá trị lớn nhất của các đoạn có độ dài k từ k tới i (ví dụ 1 tới k, 2 tới k + 1, ..., i - k + 1 tới i) ta có thể tính $l[i]$ bằng cách $l[i] = max(l[i - 1], s[i] - s[i - k])$, và $r[i]$ là giá trị lớn nhất của các đoạn có độ dài k từ i tới N - k + 1 (ví dụ từ i tới i + k - 1, từ i + 1 tới i + k, ..., từ N - k + 1 tới N) ta có thể tính tương tự như cách tính $l[i]$. Để tính trước các mảng s, l, r thì ta chỉ tốn chi phí là O(N), và khi với mỗi đoạn gồm k phần tử liên tiếp từ i tới i + k - 1 để tính phần thưởng cho Hermione thì ta có thể tính kết quả phần thưởng của Harry trong O(1) bằng cách $min(l[i - 1], r[i + k])$.\n",
        "\n",
        "ĐPT: $O(N)$"
      ],
      "metadata": {
        "id": "DzMqEmicag8J"
      }
    },
    {
      "cell_type": "markdown",
      "source": [
        "## KÉO CẮT GIẤY\n",
        "### ___Đề bài:___ https://khmt.uit.edu.vn/wecode/algobootcamp/assignment/30/171\n",
        "### ___Solution:___\n",
        "__Hướng tiếp cận 1:__ Ta có thể dùng for để duyệt theo hình chữ nhật với điều kiện như đề yêu cầu sau đó đếm ra kết quả. Ta có ĐPT là $O(m \\times n)$Nhưng với giới hạn $2 \\leq m, n \\leq 10^9$ thì  không khả thi.\n",
        "\n",
        "\n",
        "__Hướng tiếp cận 2:__\n",
        "\n",
        "__Gợi ý 1:__ Kết quả của bài toán ta có thể nhìn nhận như là tổng của chiều dài đường cắt dọc và tổng của chiều các đường cắt ngang. Sau mỗi lần cắt thì chiều dài của mỗi chiều đường cắt sẽ giảm đi 1 cho đến khi không cắt được nữa. Ta có thể cắt theo chiều dọc hoặc theo chiều ngang. Chiều dài của đường cắt theo __chiều cắt__ ban đầu sẽ ít hơn độ dài của chiều đó là 1, và độ dài của đường cắt của chiều còn lại ban đầu là sẽ ít hơn độ dài của chiều đó là 2. Dù cắt chiều nào thì cũng không ảnh hưởng tới độ dài của chiều kia, nên ta có thể cắt theo chiều nào trước cũng được.\n",
        "\n",
        "__Gợi ý 2:__ Gọi kích thước của hình là $m \\times n$. Cắt theo chiều nào trước cũng được, nhưng để dễ hình dung thì ta cắt theo chiều có độ dài hơn trước, ta quy ước là $m > n$ (nếu m < n thì swap(m, n)) và chiều ta cắt trước sẽ là chiều theo m. Như theo gợi ý 1 thì ban đầu độ dài đường cắt theo chiều m là $m - 1$, còn đường cắt theo chiều còn lại ban đầu là $n - 2$. Có phải đáp án sẽ là tổng từ $m - 1$ về 1 và $n - 2$ về 1 không? Câu trả lời là không, vì có thể chiều kia vẫn còn cắt được, nhưng chiều còn lại không thể cắt được nữa. Ta nhận thấy cắt theo chiều m thì chưa biết có thể cắt bao nhiêu lần vì chiều n có thể cắt hết trước, nhưng chiều n thì chắc chắn là ta biết (vì ta quy ước m > n) sẽ cắt $n - 2$ lần => tổng của chiều này là từ $n - 2$ về 1 <=> $((n - 1) \\times (n - 2) / 2)$. Vì ban đầu ta mặc định chiều m dài hơn chiều n nên nếu n cắt được $n - 2$ lần thì chiều m sẽ cắt được $n - 2 + 1$ lần (vì a cắt trước nên hơn 1 lần), lúc nầy ta sẽ có $e = (m - 1) - (n - 1) + 1$ sẽ là độ dài cuối cùng mà ta cắt theo chiều m, tức là ta có tổng độ dài của chiều này là tổng từ e tới $m - 1$ <=> $(m - 1 + e) \\times (m - 1 - e + 1) / 2$.\n",
        "\n",
        "ĐPT: $O(1)$"
      ],
      "metadata": {
        "id": "uaZMePRgahOf"
      }
    },
    {
      "cell_type": "markdown",
      "source": [
        "# Code mẫu C++"
      ],
      "metadata": {
        "id": "4yZ_dBfiWIk-"
      }
    },
    {
      "cell_type": "markdown",
      "source": [
        "## PHONG BÌ"
      ],
      "metadata": {
        "id": "isqM1O0JWOcz"
      }
    },
    {
      "cell_type": "code",
      "source": [
        "#include<bits/stdc++.h>\n",
        "using namespace std;\n",
        "\n",
        "int main(){\n",
        "\tios_base::sync_with_stdio(false); cin.tie(0);\n",
        "\n",
        "\tlong double a, b, c, d;\n",
        "    cin >> a >> b >> c >> d;\n",
        "\n",
        "    /// a <= c && b <= d\n",
        "    long double n = a, m = b;\n",
        "    int cnt1 = 0;\n",
        "    while(n > c){\n",
        "        n /= 2;\n",
        "        cnt1 += 1;\n",
        "    }\n",
        "    while(m > d){\n",
        "        cnt1 += 1;\n",
        "        m /= 2;\n",
        "    }\n",
        "\n",
        "    /// a <= d && b <= c\n",
        "    int cnt2 = 0;\n",
        "    n = a, m = b;\n",
        "\n",
        "    while(n > d){\n",
        "        n /= 2;\n",
        "        cnt2 += 1;\n",
        "    }\n",
        "    while(m > c){\n",
        "        cnt2 += 1;\n",
        "        m /= 2;\n",
        "    }\n",
        "\n",
        "    cout << min(cnt1, cnt2);\n",
        "}"
      ],
      "metadata": {
        "id": "_Tne2r-LWShQ"
      },
      "execution_count": null,
      "outputs": []
    },
    {
      "cell_type": "markdown",
      "source": [
        "## MUA CÔ CA"
      ],
      "metadata": {
        "id": "y0vx4r_iXOII"
      }
    },
    {
      "cell_type": "code",
      "source": [
        "#include<bits/stdc++.h>\n",
        "using namespace std;\n",
        "\n",
        "int main(){\n",
        "\tios_base::sync_with_stdio(false); cin.tie(0);\n",
        "\n",
        "\tstring s;\n",
        "    cin >> s;\n",
        "    if(s.front() != s.back()) cout << \"Win\";\n",
        "    else cout << \"Lose\";\n",
        "}\n"
      ],
      "metadata": {
        "id": "iBTIhMzUXSaO"
      },
      "execution_count": null,
      "outputs": []
    },
    {
      "cell_type": "markdown",
      "source": [
        "## TRÁM ĐEN"
      ],
      "metadata": {
        "id": "gtD9mlTpXngu"
      }
    },
    {
      "cell_type": "code",
      "source": [
        "#include<bits/stdc++.h>\n",
        "using namespace std;\n",
        "\n",
        "void solve(){\n",
        "    int64_t k;\n",
        "    cin >> k;\n",
        "    k *= 2;\n",
        "\n",
        "    /**\n",
        "    (m * n) + ((m - 1) * (n - 1)) = k\n",
        "    <=> m * n + n(m - 1) - (m - 1) = k\n",
        "    <=> n(m + m - 1) = k + (m - 1)\n",
        "    <=> n = (k + m - 1) / (2m - 1) => (k + m - 1) % (2m - 1) == 0\n",
        "\n",
        "    => answer = (m - 1, n - 1)\n",
        "    */\n",
        "    pair<int64_t, int64_t> res = {0, 1e18};\n",
        "\n",
        "    for(int64_t m = 1; m * m <= k; m++){\n",
        "        int64_t n = 0;\n",
        "        int64_t tu = k + m - 1;\n",
        "        int64_t mau = m * 2 - 1;\n",
        "        if(tu % mau == 0){\n",
        "            n = tu / mau;\n",
        "            int64_t a = m, b = n;\n",
        "            a -= 1, b -= 1;\n",
        "            if(a < 1 || b < 1) continue;\n",
        "            if(a > b) swap(a, b);\n",
        "            if(res.second - res.first > b - a){\n",
        "                res = {a, b};\n",
        "            }\n",
        "        }\n",
        "    }\n",
        "\n",
        "    if(res.first == 0){\n",
        "        cout << -1 << \" \" << -1 << '\\n';\n",
        "    }\n",
        "    else{\n",
        "        cout << res.first << \" \" << res.second << '\\n';\n",
        "    }\n",
        "}\n",
        "\n",
        "int main(){\n",
        "\tios_base::sync_with_stdio(false); cin.tie(0);\n",
        "\tint Test;\n",
        "\tcin >> Test;\n",
        "\tfor(int i = 1; i <= Test; i++)\n",
        "        solve();\n",
        "}\n"
      ],
      "metadata": {
        "id": "uO0zlSaKXq9h"
      },
      "execution_count": null,
      "outputs": []
    },
    {
      "cell_type": "markdown",
      "source": [
        "## PHẦN THƯỞNG"
      ],
      "metadata": {
        "id": "FKkntj5FY0B5"
      }
    },
    {
      "cell_type": "code",
      "source": [
        "#include<bits/stdc++.h>\n",
        "using namespace std;\n",
        "\n",
        "const int64_t INF = 1e18;\n",
        "const int N = 1e5 + 5;\n",
        "\n",
        "int64_t a[N], l[N], r[N], s[N];\n",
        "\n",
        "\n",
        "int main(){\n",
        "\tios_base::sync_with_stdio(false); cin.tie(0);\n",
        "\n",
        "\tint n, k;\n",
        "    cin >> n >> k;\n",
        "    s[0] = 0;\n",
        "    for(int i = 1; i <= n; i++){\n",
        "        cin >> a[i];\n",
        "        s[i] = s[i - 1] + a[i];\n",
        "    }\n",
        "    for(int i = k; i <= n; i++){\n",
        "        l[i] = max(l[i - 1], s[i] - s[i - k]);\n",
        "    }\n",
        "    for(int i = n - k + 1; i >= 1; i--){\n",
        "        r[i] = max(r[i + 1], s[i + k - 1] - s[i - 1]);\n",
        "    }\n",
        "\n",
        "    int64_t res = INF;\n",
        "    for(int i = k; i <= n; i++){\n",
        "        int64_t value = 0;\n",
        "        int left = i - k, right = i + 1;\n",
        "        if(left >= k){\n",
        "            value = max(value, l[left]);\n",
        "        }\n",
        "        if(right <= n){\n",
        "            value = max(value, r[right]);\n",
        "        }\n",
        "        res = min(res, value);\n",
        "    }\n",
        "    cout << res;\n",
        "}\n"
      ],
      "metadata": {
        "id": "JBVj3FHhY2qx"
      },
      "execution_count": null,
      "outputs": []
    },
    {
      "cell_type": "markdown",
      "source": [
        "## KÉO CẮT GIẤY"
      ],
      "metadata": {
        "id": "SC5lcAGDZpZD"
      }
    },
    {
      "cell_type": "code",
      "source": [
        "#include<bits/stdc++.h>\n",
        "using namespace std;\n",
        "\n",
        "int main(){\n",
        "\tios_base::sync_with_stdio(false); cin.tie(0);\n",
        "\tint64_t m, n;\n",
        "    cin >> m >> n;\n",
        "    m -= 1;\n",
        "    n -= 2;\n",
        "\n",
        "    int64_t d = n + 1;\n",
        "\n",
        "    int64_t e = m - d + 1;\n",
        "\n",
        "    cout << ((m + e) * (m - e + 1)  / 2) + ((n + 1) * n / 2);\n",
        "}"
      ],
      "metadata": {
        "id": "MhVbH7GAZyvZ"
      },
      "execution_count": null,
      "outputs": []
    }
  ]
}